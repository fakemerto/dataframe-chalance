{
 "cells": [
  {
   "cell_type": "code",
   "execution_count": 1,
   "metadata": {},
   "outputs": [],
   "source": [
    "# import os    # çalısma yolunu değiştirdim\n",
    "# os.getcwd()\n"
   ]
  },
  {
   "cell_type": "code",
   "execution_count": null,
   "metadata": {},
   "outputs": [],
   "source": []
  },
  {
   "cell_type": "code",
   "execution_count": null,
   "metadata": {},
   "outputs": [],
   "source": []
  },
  {
   "cell_type": "code",
   "execution_count": 2,
   "metadata": {},
   "outputs": [
    {
     "name": "stdout",
     "output_type": "stream",
     "text": [
      "(1800, 128, 128, 3)\n",
      "(1800,)\n"
     ]
    }
   ],
   "source": [
    "import os \n",
    "import cv2\n",
    "import numpy as np\n",
    "import pandas as pd\n",
    "\n",
    "\n",
    "path=\"C:\\\\aaa\\\\trainn\\\\\"\n",
    "\n",
    "\n",
    "folderNames=os.listdir(path)\n",
    "XSample,ySample=[],[]\n",
    "for i,folderName in enumerate(folderNames):\n",
    "    for j,file in enumerate([f for f in os.listdir(path+folderName) if os.path.isfile(os.path.join(path+folderName, f))]):\n",
    "        img=cv2.resize(cv2.imread(path+folderName+\"\\\\\"+file),(128,128),interpolation=cv2.INTER_LINEAR)/255.\n",
    "        XSample.append(np.asarray(img))\n",
    "        ySample.append(i)\n",
    "XSample=np.array(XSample)\n",
    "ySample=np.array(ySample)\n",
    "print(XSample.shape)\n",
    "print(ySample.shape)"
   ]
  },
  {
   "cell_type": "code",
   "execution_count": 3,
   "metadata": {},
   "outputs": [
    {
     "name": "stdout",
     "output_type": "stream",
     "text": [
      "(1440, 128, 128, 3)\n",
      "(180, 128, 128, 3)\n",
      "(180, 128, 128, 3)\n"
     ]
    }
   ],
   "source": [
    "from sklearn.model_selection import train_test_split\n",
    "# validationu  xtrainden bölüyoruz\n",
    "XTrain,XTest,yTrain,yTest = train_test_split(XSample,ySample,test_size=0.10,random_state=0)\n",
    "XTrain,XVal,yTrain,yVal=train_test_split(XTrain,yTrain,test_size=0.111,random_state=0)\n",
    "print(XTrain.shape)\n",
    "print(XTest.shape)\n",
    "print(XVal.shape)"
   ]
  },
  {
   "cell_type": "code",
   "execution_count": 6,
   "metadata": {},
   "outputs": [
    {
     "name": "stdout",
     "output_type": "stream",
     "text": [
      "Model: \"sequential_2\"\n",
      "_________________________________________________________________\n",
      " Layer (type)                Output Shape              Param #   \n",
      "=================================================================\n",
      " conv2d_4 (Conv2D)           (None, 126, 126, 32)      896       \n",
      "                                                                 \n",
      " max_pooling2d_4 (MaxPooling  (None, 63, 63, 32)       0         \n",
      " 2D)                                                             \n",
      "                                                                 \n",
      " conv2d_5 (Conv2D)           (None, 61, 61, 16)        4624      \n",
      "                                                                 \n",
      " max_pooling2d_5 (MaxPooling  (None, 30, 30, 16)       0         \n",
      " 2D)                                                             \n",
      "                                                                 \n",
      " flatten_2 (Flatten)         (None, 14400)             0         \n",
      "                                                                 \n",
      " dropout_2 (Dropout)         (None, 14400)             0         \n",
      "                                                                 \n",
      " dense_2 (Dense)             (None, 1)                 14401     \n",
      "                                                                 \n",
      "=================================================================\n",
      "Total params: 19,921\n",
      "Trainable params: 19,921\n",
      "Non-trainable params: 0\n",
      "_________________________________________________________________\n",
      "Epoch 1/20\n",
      " 21/144 [===>..........................] - ETA: 22s - loss: 0.6832 - acc: 0.5619"
     ]
    },
    {
     "ename": "KeyboardInterrupt",
     "evalue": "",
     "output_type": "error",
     "traceback": [
      "\u001b[1;31m---------------------------------------------------------------------------\u001b[0m",
      "\u001b[1;31mKeyboardInterrupt\u001b[0m                         Traceback (most recent call last)",
      "Cell \u001b[1;32mIn[6], line 35\u001b[0m\n\u001b[0;32m     26\u001b[0m model\u001b[39m.\u001b[39mcompile(optimizer\u001b[39m=\u001b[39m\u001b[39m'\u001b[39m\u001b[39madam\u001b[39m\u001b[39m'\u001b[39m,\n\u001b[0;32m     27\u001b[0m               loss\u001b[39m=\u001b[39m\u001b[39m'\u001b[39m\u001b[39mbinary_crossentropy\u001b[39m\u001b[39m'\u001b[39m,\n\u001b[0;32m     28\u001b[0m               metrics\u001b[39m=\u001b[39m[\u001b[39m'\u001b[39m\u001b[39macc\u001b[39m\u001b[39m'\u001b[39m])\u001b[39m# multi class oldugu için binary entropy aldık\u001b[39;00m\n\u001b[0;32m     31\u001b[0m \u001b[39m# model.compile(optimizer='adam',\u001b[39;00m\n\u001b[0;32m     32\u001b[0m \u001b[39m#               loss=tf.keras.losses.SparseCategoricalCrossentropy(from_logits=True),\u001b[39;00m\n\u001b[0;32m     33\u001b[0m \u001b[39m#               metrics=['accuracy'])\u001b[39;00m\n\u001b[1;32m---> 35\u001b[0m history\u001b[39m=\u001b[39m model\u001b[39m.\u001b[39;49mfit(XTrain,yTrain, epochs\u001b[39m=\u001b[39;49m\u001b[39m20\u001b[39;49m,batch_size\u001b[39m=\u001b[39;49m\u001b[39m10\u001b[39;49m,\n\u001b[0;32m     36\u001b[0m                    validation_data\u001b[39m=\u001b[39;49m(XVal, yVal))\n",
      "File \u001b[1;32mc:\\Users\\YILDIRIM\\anaconda3\\envs\\merto\\lib\\site-packages\\keras\\utils\\traceback_utils.py:65\u001b[0m, in \u001b[0;36mfilter_traceback.<locals>.error_handler\u001b[1;34m(*args, **kwargs)\u001b[0m\n\u001b[0;32m     63\u001b[0m filtered_tb \u001b[39m=\u001b[39m \u001b[39mNone\u001b[39;00m\n\u001b[0;32m     64\u001b[0m \u001b[39mtry\u001b[39;00m:\n\u001b[1;32m---> 65\u001b[0m     \u001b[39mreturn\u001b[39;00m fn(\u001b[39m*\u001b[39margs, \u001b[39m*\u001b[39m\u001b[39m*\u001b[39mkwargs)\n\u001b[0;32m     66\u001b[0m \u001b[39mexcept\u001b[39;00m \u001b[39mException\u001b[39;00m \u001b[39mas\u001b[39;00m e:\n\u001b[0;32m     67\u001b[0m     filtered_tb \u001b[39m=\u001b[39m _process_traceback_frames(e\u001b[39m.\u001b[39m__traceback__)\n",
      "File \u001b[1;32mc:\\Users\\YILDIRIM\\anaconda3\\envs\\merto\\lib\\site-packages\\keras\\engine\\training.py:1650\u001b[0m, in \u001b[0;36mModel.fit\u001b[1;34m(self, x, y, batch_size, epochs, verbose, callbacks, validation_split, validation_data, shuffle, class_weight, sample_weight, initial_epoch, steps_per_epoch, validation_steps, validation_batch_size, validation_freq, max_queue_size, workers, use_multiprocessing)\u001b[0m\n\u001b[0;32m   1642\u001b[0m \u001b[39mwith\u001b[39;00m tf\u001b[39m.\u001b[39mprofiler\u001b[39m.\u001b[39mexperimental\u001b[39m.\u001b[39mTrace(\n\u001b[0;32m   1643\u001b[0m     \u001b[39m\"\u001b[39m\u001b[39mtrain\u001b[39m\u001b[39m\"\u001b[39m,\n\u001b[0;32m   1644\u001b[0m     epoch_num\u001b[39m=\u001b[39mepoch,\n\u001b[1;32m   (...)\u001b[0m\n\u001b[0;32m   1647\u001b[0m     _r\u001b[39m=\u001b[39m\u001b[39m1\u001b[39m,\n\u001b[0;32m   1648\u001b[0m ):\n\u001b[0;32m   1649\u001b[0m     callbacks\u001b[39m.\u001b[39mon_train_batch_begin(step)\n\u001b[1;32m-> 1650\u001b[0m     tmp_logs \u001b[39m=\u001b[39m \u001b[39mself\u001b[39;49m\u001b[39m.\u001b[39;49mtrain_function(iterator)\n\u001b[0;32m   1651\u001b[0m     \u001b[39mif\u001b[39;00m data_handler\u001b[39m.\u001b[39mshould_sync:\n\u001b[0;32m   1652\u001b[0m         context\u001b[39m.\u001b[39masync_wait()\n",
      "File \u001b[1;32mc:\\Users\\YILDIRIM\\anaconda3\\envs\\merto\\lib\\site-packages\\tensorflow\\python\\util\\traceback_utils.py:150\u001b[0m, in \u001b[0;36mfilter_traceback.<locals>.error_handler\u001b[1;34m(*args, **kwargs)\u001b[0m\n\u001b[0;32m    148\u001b[0m filtered_tb \u001b[39m=\u001b[39m \u001b[39mNone\u001b[39;00m\n\u001b[0;32m    149\u001b[0m \u001b[39mtry\u001b[39;00m:\n\u001b[1;32m--> 150\u001b[0m   \u001b[39mreturn\u001b[39;00m fn(\u001b[39m*\u001b[39margs, \u001b[39m*\u001b[39m\u001b[39m*\u001b[39mkwargs)\n\u001b[0;32m    151\u001b[0m \u001b[39mexcept\u001b[39;00m \u001b[39mException\u001b[39;00m \u001b[39mas\u001b[39;00m e:\n\u001b[0;32m    152\u001b[0m   filtered_tb \u001b[39m=\u001b[39m _process_traceback_frames(e\u001b[39m.\u001b[39m__traceback__)\n",
      "File \u001b[1;32mc:\\Users\\YILDIRIM\\anaconda3\\envs\\merto\\lib\\site-packages\\tensorflow\\python\\eager\\polymorphic_function\\polymorphic_function.py:880\u001b[0m, in \u001b[0;36mFunction.__call__\u001b[1;34m(self, *args, **kwds)\u001b[0m\n\u001b[0;32m    877\u001b[0m compiler \u001b[39m=\u001b[39m \u001b[39m\"\u001b[39m\u001b[39mxla\u001b[39m\u001b[39m\"\u001b[39m \u001b[39mif\u001b[39;00m \u001b[39mself\u001b[39m\u001b[39m.\u001b[39m_jit_compile \u001b[39melse\u001b[39;00m \u001b[39m\"\u001b[39m\u001b[39mnonXla\u001b[39m\u001b[39m\"\u001b[39m\n\u001b[0;32m    879\u001b[0m \u001b[39mwith\u001b[39;00m OptionalXlaContext(\u001b[39mself\u001b[39m\u001b[39m.\u001b[39m_jit_compile):\n\u001b[1;32m--> 880\u001b[0m   result \u001b[39m=\u001b[39m \u001b[39mself\u001b[39m\u001b[39m.\u001b[39m_call(\u001b[39m*\u001b[39margs, \u001b[39m*\u001b[39m\u001b[39m*\u001b[39mkwds)\n\u001b[0;32m    882\u001b[0m new_tracing_count \u001b[39m=\u001b[39m \u001b[39mself\u001b[39m\u001b[39m.\u001b[39mexperimental_get_tracing_count()\n\u001b[0;32m    883\u001b[0m without_tracing \u001b[39m=\u001b[39m (tracing_count \u001b[39m==\u001b[39m new_tracing_count)\n",
      "File \u001b[1;32mc:\\Users\\YILDIRIM\\anaconda3\\envs\\merto\\lib\\site-packages\\tensorflow\\python\\eager\\polymorphic_function\\polymorphic_function.py:912\u001b[0m, in \u001b[0;36mFunction._call\u001b[1;34m(self, *args, **kwds)\u001b[0m\n\u001b[0;32m    909\u001b[0m   \u001b[39mself\u001b[39m\u001b[39m.\u001b[39m_lock\u001b[39m.\u001b[39mrelease()\n\u001b[0;32m    910\u001b[0m   \u001b[39m# In this case we have created variables on the first call, so we run the\u001b[39;00m\n\u001b[0;32m    911\u001b[0m   \u001b[39m# defunned version which is guaranteed to never create variables.\u001b[39;00m\n\u001b[1;32m--> 912\u001b[0m   \u001b[39mreturn\u001b[39;00m \u001b[39mself\u001b[39m\u001b[39m.\u001b[39m_no_variable_creation_fn(\u001b[39m*\u001b[39margs, \u001b[39m*\u001b[39m\u001b[39m*\u001b[39mkwds)  \u001b[39m# pylint: disable=not-callable\u001b[39;00m\n\u001b[0;32m    913\u001b[0m \u001b[39melif\u001b[39;00m \u001b[39mself\u001b[39m\u001b[39m.\u001b[39m_variable_creation_fn \u001b[39mis\u001b[39;00m \u001b[39mnot\u001b[39;00m \u001b[39mNone\u001b[39;00m:\n\u001b[0;32m    914\u001b[0m   \u001b[39m# Release the lock early so that multiple threads can perform the call\u001b[39;00m\n\u001b[0;32m    915\u001b[0m   \u001b[39m# in parallel.\u001b[39;00m\n\u001b[0;32m    916\u001b[0m   \u001b[39mself\u001b[39m\u001b[39m.\u001b[39m_lock\u001b[39m.\u001b[39mrelease()\n",
      "File \u001b[1;32mc:\\Users\\YILDIRIM\\anaconda3\\envs\\merto\\lib\\site-packages\\tensorflow\\python\\eager\\polymorphic_function\\tracing_compiler.py:134\u001b[0m, in \u001b[0;36mTracingCompiler.__call__\u001b[1;34m(self, *args, **kwargs)\u001b[0m\n\u001b[0;32m    131\u001b[0m \u001b[39mwith\u001b[39;00m \u001b[39mself\u001b[39m\u001b[39m.\u001b[39m_lock:\n\u001b[0;32m    132\u001b[0m   (concrete_function,\n\u001b[0;32m    133\u001b[0m    filtered_flat_args) \u001b[39m=\u001b[39m \u001b[39mself\u001b[39m\u001b[39m.\u001b[39m_maybe_define_function(args, kwargs)\n\u001b[1;32m--> 134\u001b[0m \u001b[39mreturn\u001b[39;00m concrete_function\u001b[39m.\u001b[39;49m_call_flat(\n\u001b[0;32m    135\u001b[0m     filtered_flat_args, captured_inputs\u001b[39m=\u001b[39;49mconcrete_function\u001b[39m.\u001b[39;49mcaptured_inputs)\n",
      "File \u001b[1;32mc:\\Users\\YILDIRIM\\anaconda3\\envs\\merto\\lib\\site-packages\\tensorflow\\python\\eager\\polymorphic_function\\monomorphic_function.py:1745\u001b[0m, in \u001b[0;36mConcreteFunction._call_flat\u001b[1;34m(self, args, captured_inputs, cancellation_manager)\u001b[0m\n\u001b[0;32m   1741\u001b[0m possible_gradient_type \u001b[39m=\u001b[39m gradients_util\u001b[39m.\u001b[39mPossibleTapeGradientTypes(args)\n\u001b[0;32m   1742\u001b[0m \u001b[39mif\u001b[39;00m (possible_gradient_type \u001b[39m==\u001b[39m gradients_util\u001b[39m.\u001b[39mPOSSIBLE_GRADIENT_TYPES_NONE\n\u001b[0;32m   1743\u001b[0m     \u001b[39mand\u001b[39;00m executing_eagerly):\n\u001b[0;32m   1744\u001b[0m   \u001b[39m# No tape is watching; skip to running the function.\u001b[39;00m\n\u001b[1;32m-> 1745\u001b[0m   \u001b[39mreturn\u001b[39;00m \u001b[39mself\u001b[39m\u001b[39m.\u001b[39m_build_call_outputs(\u001b[39mself\u001b[39;49m\u001b[39m.\u001b[39;49m_inference_function\u001b[39m.\u001b[39;49mcall(\n\u001b[0;32m   1746\u001b[0m       ctx, args, cancellation_manager\u001b[39m=\u001b[39;49mcancellation_manager))\n\u001b[0;32m   1747\u001b[0m forward_backward \u001b[39m=\u001b[39m \u001b[39mself\u001b[39m\u001b[39m.\u001b[39m_select_forward_and_backward_functions(\n\u001b[0;32m   1748\u001b[0m     args,\n\u001b[0;32m   1749\u001b[0m     possible_gradient_type,\n\u001b[0;32m   1750\u001b[0m     executing_eagerly)\n\u001b[0;32m   1751\u001b[0m forward_function, args_with_tangents \u001b[39m=\u001b[39m forward_backward\u001b[39m.\u001b[39mforward()\n",
      "File \u001b[1;32mc:\\Users\\YILDIRIM\\anaconda3\\envs\\merto\\lib\\site-packages\\tensorflow\\python\\eager\\polymorphic_function\\monomorphic_function.py:378\u001b[0m, in \u001b[0;36m_EagerDefinedFunction.call\u001b[1;34m(self, ctx, args, cancellation_manager)\u001b[0m\n\u001b[0;32m    376\u001b[0m \u001b[39mwith\u001b[39;00m _InterpolateFunctionError(\u001b[39mself\u001b[39m):\n\u001b[0;32m    377\u001b[0m   \u001b[39mif\u001b[39;00m cancellation_manager \u001b[39mis\u001b[39;00m \u001b[39mNone\u001b[39;00m:\n\u001b[1;32m--> 378\u001b[0m     outputs \u001b[39m=\u001b[39m execute\u001b[39m.\u001b[39;49mexecute(\n\u001b[0;32m    379\u001b[0m         \u001b[39mstr\u001b[39;49m(\u001b[39mself\u001b[39;49m\u001b[39m.\u001b[39;49msignature\u001b[39m.\u001b[39;49mname),\n\u001b[0;32m    380\u001b[0m         num_outputs\u001b[39m=\u001b[39;49m\u001b[39mself\u001b[39;49m\u001b[39m.\u001b[39;49m_num_outputs,\n\u001b[0;32m    381\u001b[0m         inputs\u001b[39m=\u001b[39;49margs,\n\u001b[0;32m    382\u001b[0m         attrs\u001b[39m=\u001b[39;49mattrs,\n\u001b[0;32m    383\u001b[0m         ctx\u001b[39m=\u001b[39;49mctx)\n\u001b[0;32m    384\u001b[0m   \u001b[39melse\u001b[39;00m:\n\u001b[0;32m    385\u001b[0m     outputs \u001b[39m=\u001b[39m execute\u001b[39m.\u001b[39mexecute_with_cancellation(\n\u001b[0;32m    386\u001b[0m         \u001b[39mstr\u001b[39m(\u001b[39mself\u001b[39m\u001b[39m.\u001b[39msignature\u001b[39m.\u001b[39mname),\n\u001b[0;32m    387\u001b[0m         num_outputs\u001b[39m=\u001b[39m\u001b[39mself\u001b[39m\u001b[39m.\u001b[39m_num_outputs,\n\u001b[1;32m   (...)\u001b[0m\n\u001b[0;32m    390\u001b[0m         ctx\u001b[39m=\u001b[39mctx,\n\u001b[0;32m    391\u001b[0m         cancellation_manager\u001b[39m=\u001b[39mcancellation_manager)\n",
      "File \u001b[1;32mc:\\Users\\YILDIRIM\\anaconda3\\envs\\merto\\lib\\site-packages\\tensorflow\\python\\eager\\execute.py:52\u001b[0m, in \u001b[0;36mquick_execute\u001b[1;34m(op_name, num_outputs, inputs, attrs, ctx, name)\u001b[0m\n\u001b[0;32m     50\u001b[0m \u001b[39mtry\u001b[39;00m:\n\u001b[0;32m     51\u001b[0m   ctx\u001b[39m.\u001b[39mensure_initialized()\n\u001b[1;32m---> 52\u001b[0m   tensors \u001b[39m=\u001b[39m pywrap_tfe\u001b[39m.\u001b[39;49mTFE_Py_Execute(ctx\u001b[39m.\u001b[39;49m_handle, device_name, op_name,\n\u001b[0;32m     53\u001b[0m                                       inputs, attrs, num_outputs)\n\u001b[0;32m     54\u001b[0m \u001b[39mexcept\u001b[39;00m core\u001b[39m.\u001b[39m_NotOkStatusException \u001b[39mas\u001b[39;00m e:\n\u001b[0;32m     55\u001b[0m   \u001b[39mif\u001b[39;00m name \u001b[39mis\u001b[39;00m \u001b[39mnot\u001b[39;00m \u001b[39mNone\u001b[39;00m:\n",
      "\u001b[1;31mKeyboardInterrupt\u001b[0m: "
     ]
    }
   ],
   "source": [
    "import tensorflow as tf\n",
    "from tensorflow.keras import datasets, layers, models\n",
    "model=models.Sequential()\n",
    "\n",
    "model.add(layers.Conv2D(32,(3,3), activation='relu',input_shape=(128,128,3)))# !128 64  32 16 lük iyi sonuc 98 96\n",
    "model.add(layers.MaxPooling2D((2,2)))\n",
    "\n",
    "model.add(layers.Conv2D(16,(3,3), activation='relu'))\n",
    "model.add(layers.MaxPooling2D((2,2)))\n",
    "\n",
    "# model.add(layers.Conv2D(32,(3,3), activation='relu'))# !64 32 (98 93)\n",
    "# model.add(layers.MaxPooling2D((2,2)))\n",
    "\n",
    "# model.add(layers.Conv2D(16,(3,3), activation='relu'))\n",
    "# model.add(layers.MaxPooling2D((2,2)))\n",
    "\n",
    "# model.add(layers.Conv2D(16,(3,3), activation='relu'))\n",
    "# model.add(layers.MaxPooling2D((2,2)))\n",
    "\n",
    "model.add(layers.Flatten())\n",
    "model.add(layers.Dropout(0.2))\n",
    "model.add(layers.Dense(1, activation='sigmoid')) \n",
    "\n",
    "model.summary()\n",
    "\n",
    "model.compile(optimizer='adam',\n",
    "              loss='binary_crossentropy',\n",
    "              metrics=['acc'])# multi class oldugu için binary entropy aldık\n",
    "\n",
    "\n",
    "# model.compile(optimizer='adam',\n",
    "#               loss=tf.keras.losses.SparseCategoricalCrossentropy(from_logits=True),\n",
    "#               metrics=['accuracy'])\n",
    "\n",
    "history= model.fit(XTrain,yTrain, epochs=20,batch_size=10,\n",
    "                   validation_data=(XVal, yVal))\n",
    "\n",
    "# history=model.fit(XTrain,yTrain,batch_size=100,validation_data=(XVal,yVal),epochs=20) bach fazla okuyor 100 olunca eksik tamamlanıyor"
   ]
  },
  {
   "cell_type": "code",
   "execution_count": null,
   "metadata": {},
   "outputs": [],
   "source": [
    "import matplotlib.pyplot as plt\n",
    "\n",
    "plt.plot(history.history[\"acc\"])\n",
    "plt.plot(history.history[\"val_acc\"])\n",
    "\n",
    "plt.plot(history.history[\"loss\"])\n",
    "plt.plot(history.history[\"val_loss\"])\n",
    "plt.title(\"Model Accuracy/Loss\")\n",
    "plt.ylabel(\"Accuracy/Loss\")\n",
    "plt.xlabel(\"epoch\")\n",
    "plt.legend([\"Train Acc\",    \"VAL Acc\", \"Train Loss\",   \"VAL Loss\"],loc=\"upper left\")\n",
    "plt.show()\n"
   ]
  },
  {
   "cell_type": "code",
   "execution_count": null,
   "metadata": {},
   "outputs": [],
   "source": [
    "from sklearn.metrics import classification_report, ConfusionMatrixDisplay, confusion_matrix\n",
    "import matplotlib.pyplot as plt\n",
    "import numpy as np\n",
    "\n",
    "# yTestPred=np.argmax(yTestPred, axis=1) argmax kukllanmıyoruz çünkü amacı multi olan durumda en yüksek değerli sınıfı alır.\n",
    "yTestPred=np.asarray(np.round(model.predict(XTest),0),dtype=int)  # çok önemli \n",
    "print(yTestPred.reshape(yTestPred.shape[0]))  #  cok önemli\n",
    "\n",
    "yTest=np.asarray(yTest)\n",
    "print(classification_report(yTest,yTestPred))\n",
    "cm=confusion_matrix(yTest,yTestPred, normalize=\"true\").round(2)\n",
    "\n",
    "disp=ConfusionMatrixDisplay(confusion_matrix=cm)\n",
    "disp=disp.plot(cmap=plt.cm.GnBu, values_format='g')\n",
    "plt.title(f\"Train Confussion Matrix\", style=\"italic\")\n",
    "plt.show()"
   ]
  },
  {
   "cell_type": "code",
   "execution_count": null,
   "metadata": {},
   "outputs": [],
   "source": [
    "# Çita ve sırtlan, Afrika savanlarının iki önemli yırtıcı hayvanıdır. Bu iki tür, farklı avlama noktası ve çevresindekilerle bilenler ve yapay zeka teknolojileri, özellikle makine bilgisayarlarını, bu türlerin etrafındakileri ve çevrelerini hakkında daha fazla bilgi içerenimize yardımcı olabilir.\n",
    "\n",
    "# Cheetah, dünyanın en hızlı kara hayvanıdır. Yüksek Hız sayesinde avlarını yakalamak için sık sık koşular ve bu nedenle savanların ana yırtıcılarıdır. Cheetah'ların avlanma stratejisi, hızlarını kullanarak yakın mesafeden yakalamak için avlarını sıkıştırmak. Bununla birlikte, bu strateji yüksek bir enerji tüketimi gerektirir ve cheetah'lar uzun süre sürdürürken takip etmeleri zor olan avlarını kaybedebilirler.\n",
    "\n",
    "# Hyena, daha büyük bir av sahasına sahip olan daha sosyal bir yırtıcıdır. Avlarını avlayabilmek için birçok farklı strateji kullanırlar ve genellikle diğer yırtıcılarla çekişirler. Sırtlanlar, özellikle aslanlarla olan rekabetleriyle ünlüdürler ve bazen aslanların avını çalarlar. Sırtlanların sosyal çevreleri, av sahaları ve çevreleri üzerinde önemli etkilere sahiptir.\n",
    "\n",
    "# Yapay zeka teknolojileri, bu türlerin donanımları ve donanımları hakkında daha fazla bilgi birikimimize yardımcı olabilir. Makine çalışmasını, birçok veri kaynağından toplanan verileri analiz ederek, bu türlerin etrafındaki ve çevrelerindeki noktaları hakkında bilgi birikimimize yardımcı olabilir. Örneğin, cheetah'ların avlanma stratejilerini ve sırtlanların avlarını avlamak için hangi uzak mesafe lavabolarını yönetiriz.\n",
    "\n",
    "# Ayrıca, yapay zeka teknolojileri, bu türlerin bölümleri ve yaşam alanları hakkında da bilgi verebilir. Yapay zeka, eşleştirme maaşı izleyerek, bu türlerin yaşam tarzını nasıl sürdüreceğini ve bu rehberleri üzerinde barındırmaya çalışır.\n",
    "\n",
    "# Sonuç olarak, yapay zeka teknolojileri, çita ve sırtlan gibi yırtıcı hayvanlar hakkında daha fazla bilgi içeriğimize yardımcı olabilir. Bu teknolojiler, bu türlerin etrafındaki ve donanımları hakkında daha iyi bir anlayış sağlayarak, bu türlerin korunması ve sürdürülebilir bir gele"
   ]
  },
  {
   "cell_type": "code",
   "execution_count": null,
   "metadata": {},
   "outputs": [],
   "source": []
  },
  {
   "cell_type": "code",
   "execution_count": null,
   "metadata": {},
   "outputs": [],
   "source": [
    "# https://www.kaggle.com/code/davegn/classification-of-cheetah-vs-hyena#5.-Modelling    farklı kişinin farklı bir modellemesi"
   ]
  },
  {
   "attachments": {},
   "cell_type": "markdown",
   "metadata": {},
   "source": [
    "# 2 ci farklı trainleme"
   ]
  },
  {
   "cell_type": "code",
   "execution_count": null,
   "metadata": {},
   "outputs": [],
   "source": [
    "# import numpy as np # linear algebra\n",
    "# import pandas as pd # data processing, CSV file I/O (e.g. pd.read_csv)\n",
    "# import os\n",
    "# import cv2\n",
    "# import matplotlib.pyplot as plt\n",
    "# import tensorflow as tf\n",
    "# from tensorflow import keras\n",
    "# from tensorflow.keras.preprocessing.image import ImageDataGenerator\n",
    "# from tensorflow.keras.preprocessing import image\n",
    "# import warnings\n",
    "# warnings.filterwarnings(\"ignore\")"
   ]
  },
  {
   "cell_type": "code",
   "execution_count": null,
   "metadata": {},
   "outputs": [],
   "source": [
    "# train = ImageDataGenerator(rescale=1/255)\n",
    "# val = ImageDataGenerator(rescale=1/255)"
   ]
  },
  {
   "attachments": {},
   "cell_type": "markdown",
   "metadata": {},
   "source": [
    "# 2 farklı tür modellemesi"
   ]
  },
  {
   "cell_type": "code",
   "execution_count": null,
   "metadata": {},
   "outputs": [],
   "source": [
    "# train_dataset = train.flow_from_directory(\"C:\\\\aaa\\\\trainn\\\\\", target_size=(200, 200), class_mode = 'binary')\n",
    "# val_dataset = val.flow_from_directory(\"C:\\\\aaa\\\\valitation\\\\\", target_size=(200, 200), class_mode = 'binary')"
   ]
  },
  {
   "cell_type": "code",
   "execution_count": null,
   "metadata": {},
   "outputs": [],
   "source": [
    "# import tensorflow as tf\n",
    "# from tensorflow.keras import datasets, layers, models\n",
    "# model = models.Sequential()\n",
    "\n",
    "# model.add(layers.Conv2D(32,(3,3),activation='relu',input_shape=(200,200,3)))\n",
    "# model.add(layers.MaxPool2D(2,2))\n",
    "\n",
    "# model.add(layers.Conv2D(64,(3,3),activation='relu'))\n",
    "# model.add(layers.MaxPool2D(2,2))\n",
    "\n",
    "# model.add(layers.Conv2D(128,(3,3),activation='relu'))\n",
    "# model.add(layers.MaxPool2D(2,2))\n",
    "\n",
    "# model.add(layers.Conv2D(128,(3,3),activation='relu'))\n",
    "# model.add(layers.MaxPool2D(2,2))\n",
    "\n",
    "# model.add(layers.Flatten())\n",
    "\n",
    "# model.add(layers.Dense(512,activation='relu'))\n",
    "\n",
    "# model.add(layers.Dense(1,activation='sigmoid'))\n"
   ]
  },
  {
   "cell_type": "code",
   "execution_count": null,
   "metadata": {},
   "outputs": [],
   "source": [
    "# model.compile(optimizer='adam',loss='binary_crossentropy',metrics=['acc'])"
   ]
  },
  {
   "attachments": {},
   "cell_type": "markdown",
   "metadata": {},
   "source": [
    "# train aşaması"
   ]
  },
  {
   "cell_type": "code",
   "execution_count": null,
   "metadata": {},
   "outputs": [],
   "source": [
    "# model.fit_generator(train_dataset, steps_per_epoch = 5, epochs = 3, validation_data = val_dataset)"
   ]
  },
  {
   "cell_type": "code",
   "execution_count": null,
   "metadata": {},
   "outputs": [],
   "source": [
    "#  import tensorflow as tf\n",
    "# from sklearn.metrics import classification_report,ConfusionMatrixDisplay,confusion_matrix\n",
    "# import matplotlib.pyplot as plt\n",
    "# import numpy as np\n",
    "\n",
    "# yTestPred=model.predict(train_dataset)\n",
    "# yTestPred=np.argmax(val_dataset,axis=1)# önemli kod\n",
    "# yTest=np.asarray(val_dataset) # buda önemli kod\n",
    "# print(classification_report(yTest,  yTestPred))\n",
    "# cm=confusion_matrix(yTest,yTestPred,normalize=\"true\").round(2)\n",
    "# # cmn= cm.astype(\"float\") / cm.sum(axis=1)[:,np.newaxis]\n",
    "# # cmn=cmn.round(2)\n",
    "# disp=ConfusionMatrixDisplay(confusion_matrix=cm)\n",
    "# disp=disp.plot(cmap=plt.cm.GnBu,values_format=\"g\")\n",
    "# plt.title(f\"Train Confusion_matrix\",    style=\"italic\")\n",
    "# # plt.savefig(f\"mode12_CM_8901_{self.header}_Data_son.jpg\")\n",
    "# plt.show()"
   ]
  },
  {
   "cell_type": "code",
   "execution_count": null,
   "metadata": {},
   "outputs": [],
   "source": [
    "# def predict(filename):\n",
    "#     img1 = image.load_img(filename, target_size=(200, 200))\n",
    "    \n",
    "#     plt.imshow(img1)\n",
    "#     Y = image.img_to_array(img1)\n",
    "#     X = np.expand_dims(Y, axis=0)\n",
    "#     val = model.predict(X)\n",
    "#     print(val)\n",
    "#     if val == 1:\n",
    "#         plt.xlabel(\"A Hyna\")\n",
    "#     elif val == 0:\n",
    "#         plt.xlabel(\"A Cheetah\")"
   ]
  },
  {
   "cell_type": "code",
   "execution_count": null,
   "metadata": {},
   "outputs": [],
   "source": [
    "# predict('C:\\\\aaa\\\\trainn\\\\cheetah\\\\cheetah_000_resized.jpg')"
   ]
  },
  {
   "cell_type": "code",
   "execution_count": null,
   "metadata": {},
   "outputs": [],
   "source": [
    "# predict('C:\\\\aaa\\\\trainn\\\\hyena\\\\hyena_000_resized.jpg')   "
   ]
  },
  {
   "cell_type": "code",
   "execution_count": null,
   "metadata": {},
   "outputs": [],
   "source": [
    "# from sklearn.metrics import classification_report, ConfusionMatrixDisplay, confusion_matrix\n",
    "# import matplotlib.pyplot as plt\n",
    "# import numpy as np\n",
    "\n",
    "# # yTestPred=np.argmax(yTestPred, axis=1) argmax kukllanmıyoruz çünkü amacı multi olan durumda en yüksek değerli sınıfı alır.\n",
    "# yTestPred=np.asarray(np.round(model.predict(XTest),0),dtype=int)  # çok önemli \n",
    "# print(yTestPred.reshape(yTestPred.shape[0]))  #  cok önemli\n",
    "\n",
    "# yTest=np.asarray(yTest)\n",
    "# print(classification_report(yTest,yTestPred))\n",
    "# cm=confusion_matrix(yTest,yTestPred, normalize=\"true\").round(2)\n",
    "\n",
    "# disp=ConfusionMatrixDisplay(confusion_matrix=cm)\n",
    "# disp=disp.plot(cmap=plt.cm.GnBu, values_format='g')\n",
    "# plt.title(f\"Train Confussion Matrix\", style=\"italic\")\n",
    "# plt.show()"
   ]
  },
  {
   "cell_type": "code",
   "execution_count": null,
   "metadata": {},
   "outputs": [],
   "source": []
  },
  {
   "cell_type": "code",
   "execution_count": null,
   "metadata": {},
   "outputs": [],
   "source": [
    "# farklı bir veri ile calısma "
   ]
  },
  {
   "cell_type": "code",
   "execution_count": null,
   "metadata": {},
   "outputs": [],
   "source": []
  },
  {
   "cell_type": "code",
   "execution_count": null,
   "metadata": {},
   "outputs": [],
   "source": []
  },
  {
   "cell_type": "code",
   "execution_count": null,
   "metadata": {},
   "outputs": [],
   "source": []
  },
  {
   "cell_type": "code",
   "execution_count": null,
   "metadata": {},
   "outputs": [],
   "source": []
  },
  {
   "cell_type": "code",
   "execution_count": null,
   "metadata": {},
   "outputs": [],
   "source": []
  },
  {
   "cell_type": "code",
   "execution_count": null,
   "metadata": {},
   "outputs": [],
   "source": []
  },
  {
   "cell_type": "code",
   "execution_count": null,
   "metadata": {},
   "outputs": [],
   "source": []
  }
 ],
 "metadata": {
  "kernelspec": {
   "display_name": "merto",
   "language": "python",
   "name": "python3"
  },
  "language_info": {
   "codemirror_mode": {
    "name": "ipython",
    "version": 3
   },
   "file_extension": ".py",
   "mimetype": "text/x-python",
   "name": "python",
   "nbconvert_exporter": "python",
   "pygments_lexer": "ipython3",
   "version": "3.10.8"
  },
  "orig_nbformat": 4
 },
 "nbformat": 4,
 "nbformat_minor": 2
}
